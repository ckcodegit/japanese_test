{
 "cells": [
  {
   "cell_type": "code",
   "execution_count": 1,
   "metadata": {},
   "outputs": [],
   "source": [
    "import numpy as np\n",
    "from reportlab.pdfgen import canvas\n",
    "from reportlab.lib.pagesizes import letter,A4\n",
    "from reportlab.lib.units import inch\n",
    "from reportlab.pdfbase import pdfmetrics\n",
    "from reportlab.pdfbase.ttfonts import TTFont"
   ]
  },
  {
   "cell_type": "code",
   "execution_count": 6,
   "metadata": {},
   "outputs": [],
   "source": [
    "def read_kanji_list():\n",
    "    l = []\n",
    "    f = open(\"kanji_list.txt\", \"r\")\n",
    "    for (i,k) in enumerate(f):\n",
    "        l.append((i,k[:1]))\n",
    "    return np.array(l)\n",
    "\n",
    "def select_kanji(l, n):\n",
    "    p = np.random.choice(len(l), n, replace=False)\n",
    "    return l[p]\n",
    "\n",
    "def format_test(l):\n",
    "    return [x[1] for x in l]\n",
    "\n",
    "def format_ans(l):\n",
    "    return [x[1]+str(x[0]) for x in l]\n",
    "\n",
    "def create_pdf(l):\n",
    "    fontname = 'IPA Gothic'\n",
    "    pdfmetrics.registerFont(TTFont(fontname,'./ipag.ttf'))\n",
    "\n",
    "    r = format_test(l)\n",
    "    p = canvas.Canvas('test.pdf',pagesize=A4)\n",
    "    for i in range(int(len(r)/7)+1):\n",
    "        for j in range(min(7, len(r)-i*7)):\n",
    "            p.setFont(fontname,65)\n",
    "            p.drawString(100,700-j*100,r[7*i+j])\n",
    "        p.showPage()\n",
    "    p.save()\n",
    "\n",
    "    r = format_ans(l)    \n",
    "    p = canvas.Canvas('answer.pdf',pagesize=A4)\n",
    "    for i in range(int(len(r)/7)+1):\n",
    "        for j in range(min(7, len(r)-i*7)):\n",
    "            p.setFont(fontname,65)\n",
    "            p.drawString(100,700-j*100,r[7*i+j])\n",
    "        p.showPage()\n",
    "    p.save()    "
   ]
  },
  {
   "cell_type": "code",
   "execution_count": 7,
   "metadata": {},
   "outputs": [],
   "source": [
    "l = read_kanji_list()"
   ]
  },
  {
   "cell_type": "code",
   "execution_count": 8,
   "metadata": {},
   "outputs": [],
   "source": [
    "q = select_kanji(l, len(l))"
   ]
  },
  {
   "cell_type": "code",
   "execution_count": 9,
   "metadata": {},
   "outputs": [],
   "source": [
    "create_pdf(q)"
   ]
  },
  {
   "cell_type": "code",
   "execution_count": null,
   "metadata": {},
   "outputs": [],
   "source": []
  }
 ],
 "metadata": {
  "kernelspec": {
   "display_name": "Python 3",
   "language": "python",
   "name": "python3"
  },
  "language_info": {
   "codemirror_mode": {
    "name": "ipython",
    "version": 3
   },
   "file_extension": ".py",
   "mimetype": "text/x-python",
   "name": "python",
   "nbconvert_exporter": "python",
   "pygments_lexer": "ipython3",
   "version": "3.6.9"
  }
 },
 "nbformat": 4,
 "nbformat_minor": 4
}
